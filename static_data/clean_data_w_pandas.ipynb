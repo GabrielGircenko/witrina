{
 "cells": [
  {
   "cell_type": "code",
   "execution_count": null,
   "metadata": {},
   "outputs": [],
   "source": [
    "%pip install pandas\n",
    "%pip install matplotlib"
   ]
  },
  {
   "cell_type": "code",
   "execution_count": null,
   "metadata": {},
   "outputs": [],
   "source": [
    "import pandas as pd"
   ]
  },
  {
   "cell_type": "code",
   "execution_count": null,
   "metadata": {},
   "outputs": [],
   "source": [
    "# If witrina_all_orders_original.csv exists, read it and make a bool variable original\n",
    "# If not, read the witrina_all_orders_anonymized.csv and make a bool variable original\n",
    "try:\n",
    "    df = pd.read_csv('../data/original/witrina_all_orders_original.csv')\n",
    "    isOriginalDataUsed = True\n",
    "except:\n",
    "    df = pd.read_csv('../data/anonymous/witrina_all_orders_anonymized.csv')\n",
    "    isOriginalDataUsed = False"
   ]
  },
  {
   "cell_type": "code",
   "execution_count": null,
   "metadata": {},
   "outputs": [],
   "source": [
    "df.head()"
   ]
  },
  {
   "cell_type": "code",
   "execution_count": null,
   "metadata": {},
   "outputs": [],
   "source": [
    "# Trim column names\n",
    "df.columns = df.columns.str.strip()"
   ]
  },
  {
   "cell_type": "code",
   "execution_count": null,
   "metadata": {},
   "outputs": [],
   "source": [
    "# Drop unnecessary columns: password, Billing Address 2, order notes\n",
    "df = df.drop(['Password', 'Billing Address 2', 'Order note', 'Order notes', 'Order number', 'Weglot Language', 'Modified Date', 'Stripe Charge Captured'], axis=1)"
   ]
  },
  {
   "cell_type": "code",
   "execution_count": null,
   "metadata": {},
   "outputs": [],
   "source": [
    "# Rename columns\n",
    "df = df.rename(columns={'Payment Method Title': 'Payment Method'})\n",
    "\n",
    "# Renaming the first occurrence of \"Shipping Method Title\"\n",
    "cols = df.columns.tolist()\n",
    "cols[cols.index('Shipping Method Title')] = 'Shipping Method 1'\n",
    "df.columns = cols\n",
    "\n",
    "# Renaming the second occurrence of \"Shipping Method Title\"\n",
    "cols = df.columns.tolist()\n",
    "cols[cols.index('Shipping Method Title')] = 'Shipping Method 2'\n",
    "df.columns = cols\n"
   ]
  },
  {
   "cell_type": "code",
   "execution_count": null,
   "metadata": {},
   "outputs": [],
   "source": [
    "# Check last rows of the data where Billing Country is Croatia\n",
    "df[df['Billing Country'] == \"HR\"].tail(40)"
   ]
  },
  {
   "cell_type": "code",
   "execution_count": null,
   "metadata": {},
   "outputs": [],
   "source": [
    "# Define a conditional expression for HRK\n",
    "condition = (df['Billing Country'] == \"HR\") & (df['Date'] <= \"2022-08-12\")\n",
    "exchange_rate = 7.5345"
   ]
  },
  {
   "cell_type": "code",
   "execution_count": null,
   "metadata": {},
   "outputs": [],
   "source": [
    "# Convert HRK to EUR for orders from Croatia that happened before 2022-08-12 (inclusive) in a new column called Total (EUR)\n",
    "df.loc[(df['Billing Country'] == \"HR\") & (df['Date'] <= \"2022-08-12\"), 'Total (EUR)'] = (df['Total'] / exchange_rate).round(2)\n",
    "# Do the same for 'Order Total' column\n",
    "df.loc[(df['Billing Country'] == \"HR\") & (df['Date'] <= \"2022-08-12\"), 'Order Total (EUR)'] = (df['Order Total'] / exchange_rate).round(2)\n",
    "# Do the same for 'Subtotal' column\n",
    "df.loc[(df['Billing Country'] == \"HR\") & (df['Date'] <= \"2022-08-12\"), 'Subtotal (EUR)'] = (df['Subtotal'] / exchange_rate).round(2)"
   ]
  },
  {
   "cell_type": "code",
   "execution_count": null,
   "metadata": {},
   "outputs": [],
   "source": [
    "# Fill NaN values in Total (EUR) column with values from Total column\n",
    "df['Total (EUR)'].fillna(df['Total'], inplace=True)\n",
    "# Fill NaN values in Order Total (EUR) column with values from Order Total column\n",
    "df['Order Total (EUR)'].fillna(df['Order Total'], inplace=True)\n",
    "# Fill NaN values in Subtotal (EUR) column with values from Subtotal column\n",
    "df['Subtotal (EUR)'].fillna(df['Subtotal'], inplace=True)"
   ]
  },
  {
   "cell_type": "code",
   "execution_count": null,
   "metadata": {},
   "outputs": [],
   "source": [
    "# Drop Total column\n",
    "df = df.drop(['Total', 'Order Total', 'Subtotal'], axis=1)"
   ]
  },
  {
   "cell_type": "code",
   "execution_count": null,
   "metadata": {},
   "outputs": [],
   "source": [
    "df[df['Billing Country'] == 'HR'].tail(20)"
   ]
  },
  {
   "cell_type": "code",
   "execution_count": null,
   "metadata": {},
   "outputs": [],
   "source": [
    "# Maybe Convert HRK to EUR for other columns as well?"
   ]
  },
  {
   "cell_type": "code",
   "execution_count": null,
   "metadata": {},
   "outputs": [],
   "source": [
    "# Fill NaN values with 0: Order Shipping\n",
    "df['Order Shipping'] = df['Order Shipping'].fillna(0)"
   ]
  },
  {
   "cell_type": "code",
   "execution_count": null,
   "metadata": {},
   "outputs": [],
   "source": [
    "# Check if the following is true in a newly created column: above 52 EUR Cro free shipping & above 290 EUR outside Cro free shipping\n",
    "df['Free Shipping'] = (df['Total (EUR)'] >= 52) & (df['Billing Country'] == \"HR\") | (df['Total (EUR)'] >= 290) & (df['Billing Country'] != \"HR\")\n",
    "# Find the first row where Order Shipping > 0 and Free Shipping is True to find the last date where free shipping was not applied\n",
    "df.loc[(df['Order Shipping'] > 0) & (df['Free Shipping'] == True)].head(1)"
   ]
  },
  {
   "cell_type": "code",
   "execution_count": null,
   "metadata": {},
   "outputs": [],
   "source": [
    "# Clean the payment method column\n",
    "df.loc[df['Payment Method'].str.contains('PayPal', case=False, na=False), 'Payment Method'] = 'PayPal'\n",
    "df.loc[df['Payment Method'].str.contains('Stripe Safe Card', case=False, na=False), 'Payment Method'] = 'Stripe Safe Card'\n",
    "df.loc[df['Payment Method'].str.contains('bank transfer', case=False, na=False), 'Payment Method'] = 'Bank Transfer'"
   ]
  },
  {
   "cell_type": "code",
   "execution_count": null,
   "metadata": {},
   "outputs": [],
   "source": [
    "# # Clean the Stripe Charge Captured column with 0 and 1 values\n",
    "# df['Stripe Charge Captured'] = df['Stripe Charge Captured'].replace(['Yes', 'No'], [1, 0])\n",
    "# # # make that column a number\n",
    "# # df['Stripe Charge Captured'] = df['Stripe Charge Captured'].cast(pl.Int32)\n",
    "# df.head()\n"
   ]
  },
  {
   "cell_type": "code",
   "execution_count": null,
   "metadata": {},
   "outputs": [],
   "source": [
    "# Merge the 2 Shipping Method Title columns\n",
    "df['Shipping Method'] = df['Shipping Method 1'].fillna(df['Shipping Method 2'])\n",
    "# Drop the Shipping Method Title.1 column\n",
    "df = df.drop(['Shipping Method 1', 'Shipping Method 2'], axis=1)\n"
   ]
  },
  {
   "cell_type": "code",
   "execution_count": null,
   "metadata": {},
   "outputs": [],
   "source": [
    "# Merge 'First Name' and 'Last Name' columns into 'Full Name' column\n",
    "df['Billing Full Name'] = df['Billing First Name'] + ' ' + df['Billing Last Name']"
   ]
  },
  {
   "cell_type": "code",
   "execution_count": null,
   "metadata": {},
   "outputs": [],
   "source": [
    "# Drop 'First Name' and 'Last Name' columns\n",
    "df = df.drop(['Billing First Name', 'Billing Last Name'], axis=1)"
   ]
  },
  {
   "cell_type": "code",
   "execution_count": null,
   "metadata": {},
   "outputs": [],
   "source": [
    "# Make pie chart of shipping methods\n",
    "df['Shipping Method'].value_counts().plot(kind='pie', figsize=(10, 10), autopct='%1.1f%%', startangle=90, title='Shipping Methods')\n"
   ]
  },
  {
   "cell_type": "code",
   "execution_count": null,
   "metadata": {},
   "outputs": [],
   "source": [
    "# Make pie chart of payment methods\n",
    "df['Payment Method'].value_counts().plot(kind='pie', figsize=(10, 10), autopct='%1.1f%%', startangle=90, title='Payment Methods')"
   ]
  },
  {
   "cell_type": "code",
   "execution_count": null,
   "metadata": {},
   "outputs": [],
   "source": []
  },
  {
   "cell_type": "markdown",
   "metadata": {},
   "source": [
    "Save rows with Status \"wc-completed\""
   ]
  },
  {
   "cell_type": "code",
   "execution_count": null,
   "metadata": {},
   "outputs": [],
   "source": [
    "# Filter only \"wc-completed\" orders into new dataframe\n",
    "completed_orders = df[df['Status'] == \"wc-completed\"]\n",
    "\n",
    "# Save the dataframe to a csv file. \n",
    "if isOriginalDataUsed:\n",
    "    completed_orders.to_csv('../data/original/completed_orders.csv', index=False)\n",
    "else:\n",
    "    completed_orders.to_csv('../data/anonymous/completed_orders.csv', index=False)"
   ]
  },
  {
   "cell_type": "code",
   "execution_count": null,
   "metadata": {},
   "outputs": [],
   "source": [
    "completed_orders[(completed_orders['Shipping Country'] == \"HR\") & pd.notna(completed_orders['Payment Method'])].tail(20)"
   ]
  },
  {
   "cell_type": "code",
   "execution_count": null,
   "metadata": {},
   "outputs": [],
   "source": [
    "# Compare the rest of the statuses with the \"wc-completed\" orders\n"
   ]
  }
 ],
 "metadata": {
  "kernelspec": {
   "display_name": "venv",
   "language": "python",
   "name": "python3"
  },
  "language_info": {
   "codemirror_mode": {
    "name": "ipython",
    "version": 3
   },
   "file_extension": ".py",
   "mimetype": "text/x-python",
   "name": "python",
   "nbconvert_exporter": "python",
   "pygments_lexer": "ipython3",
   "version": "3.10.12"
  }
 },
 "nbformat": 4,
 "nbformat_minor": 2
}
