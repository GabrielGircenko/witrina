{
 "cells": [
  {
   "cell_type": "code",
   "execution_count": null,
   "metadata": {},
   "outputs": [],
   "source": [
    "%pip install pandas\n",
    "%pip install matplotlib"
   ]
  },
  {
   "cell_type": "code",
   "execution_count": null,
   "metadata": {},
   "outputs": [],
   "source": [
    "import pandas as pd"
   ]
  },
  {
   "cell_type": "code",
   "execution_count": null,
   "metadata": {},
   "outputs": [],
   "source": [
    "# If witrina_all_orders_original.csv exists, read it and make a bool variable original\n",
    "# If not, read the witrina_all_orders_anonymized.csv and make a bool variable original\n",
    "try:\n",
    "    df = pd.read_csv('../data/original/witrina_all_orders_original.csv')\n",
    "    isOriginalDataUsed = True\n",
    "except:\n",
    "    df = pd.read_csv('../data/anonymous/witrina_all_orders_anonymized.csv')\n",
    "    isOriginalDataUsed = False"
   ]
  },
  {
   "cell_type": "code",
   "execution_count": null,
   "metadata": {},
   "outputs": [],
   "source": [
    "df.head()"
   ]
  },
  {
   "cell_type": "code",
   "execution_count": null,
   "metadata": {},
   "outputs": [],
   "source": [
    "# Trim column names\n",
    "df.columns = df.columns.str.strip()"
   ]
  },
  {
   "cell_type": "code",
   "execution_count": null,
   "metadata": {},
   "outputs": [],
   "source": [
    "# Drop unnecessary columns: password, Billing Address 2, order notes\n",
    "df = df.drop(['Password', 'Billing Address 2', 'Order note', 'Order notes', 'Order number', 'Weglot Language', 'Modified Date', 'Stripe Charge Captured', 'Order Total'], axis=1)"
   ]
  },
  {
   "cell_type": "code",
   "execution_count": null,
   "metadata": {},
   "outputs": [],
   "source": [
    "# Rename columns\n",
    "df = df.rename(columns={'Payment Method Title': 'Payment Method', \n",
    "                        'record_id': 'Transaction', \n",
    "                        'Line items': 'Line Items',\n",
    "                        'Billing Country': 'Billing Country Code', \n",
    "                        'Shipping Country': 'Shipping Country Code'})\n",
    "\n",
    "# Renaming the first occurrence of \"Shipping Method Title\"\n",
    "cols = df.columns.tolist()\n",
    "cols[cols.index('Shipping Method Title')] = 'Shipping Method 1'\n",
    "df.columns = cols\n",
    "\n",
    "# Renaming the second occurrence of \"Shipping Method Title\"\n",
    "cols = df.columns.tolist()\n",
    "cols[cols.index('Shipping Method Title')] = 'Shipping Method 2'\n",
    "df.columns = cols\n"
   ]
  },
  {
   "cell_type": "code",
   "execution_count": null,
   "metadata": {},
   "outputs": [],
   "source": [
    "# Define a conditional expression for HRK\n",
    "condition = (df['Billing Country Code'] == \"HR\") & (df['Date'] <= \"2022-08-12\")\n",
    "exchange_rate = 7.5345"
   ]
  },
  {
   "cell_type": "code",
   "execution_count": null,
   "metadata": {},
   "outputs": [],
   "source": [
    "# Check last rows of the data where Billing Country is Croatia\n",
    "df[condition].tail(40)"
   ]
  },
  {
   "cell_type": "code",
   "execution_count": null,
   "metadata": {},
   "outputs": [],
   "source": [
    "# Convert HRK to EUR for orders from Croatia that happened before 2022-08-12 (inclusive) in a new column called Total (EUR)\n",
    "df.loc[(df['Billing Country Code'] == \"HR\") & (df['Date'] <= \"2022-08-12\"), 'Total (EUR)'] = (df['Total'] / exchange_rate).round(2)\n",
    "# Do the same for 'Subtotal' column\n",
    "df.loc[(df['Billing Country Code'] == \"HR\") & (df['Date'] <= \"2022-08-12\"), 'Subtotal (EUR)'] = (df['Subtotal'] / exchange_rate).round(2)"
   ]
  },
  {
   "cell_type": "code",
   "execution_count": null,
   "metadata": {},
   "outputs": [],
   "source": [
    "# Fill NaN values in Total (EUR) column with values from Total column\n",
    "df['Total (EUR)'].fillna(df['Total'], inplace=True)\n",
    "# Fill NaN values in Subtotal (EUR) column with values from Subtotal column\n",
    "df['Subtotal (EUR)'].fillna(df['Subtotal'], inplace=True)"
   ]
  },
  {
   "cell_type": "code",
   "execution_count": null,
   "metadata": {},
   "outputs": [],
   "source": [
    "# Drop Total & Subtotal original columns\n",
    "df = df.drop(['Total', 'Subtotal'], axis=1)"
   ]
  },
  {
   "cell_type": "code",
   "execution_count": null,
   "metadata": {},
   "outputs": [],
   "source": [
    "# Calculate Subtotal where Subtotal is 0 by subtracting Order Shipping from Total\n",
    "df.loc[df['Subtotal (EUR)'] == 0, 'Subtotal (EUR)'] = df['Total (EUR)'] - df['Order Shipping']"
   ]
  },
  {
   "cell_type": "code",
   "execution_count": null,
   "metadata": {},
   "outputs": [],
   "source": [
    "df[df['Billing Country Code'] == 'HR'].tail(40)"
   ]
  },
  {
   "cell_type": "code",
   "execution_count": null,
   "metadata": {},
   "outputs": [],
   "source": [
    "# Maybe Convert HRK to EUR for other columns as well?"
   ]
  },
  {
   "cell_type": "code",
   "execution_count": null,
   "metadata": {},
   "outputs": [],
   "source": [
    "# Fill NaN values with 0: Order Shipping\n",
    "df['Order Shipping'] = df['Order Shipping'].fillna(0)"
   ]
  },
  {
   "cell_type": "code",
   "execution_count": null,
   "metadata": {},
   "outputs": [],
   "source": [
    "# Clean the payment method column\n",
    "df.loc[df['Payment Method'].str.contains('PayPal', case=False, na=False), 'Payment Method'] = 'PayPal'\n",
    "df.loc[df['Payment Method'].str.contains('Stripe Safe Card', case=False, na=False), 'Payment Method'] = 'Stripe Safe Card'\n",
    "df.loc[df['Payment Method'].str.contains('bank transfer', case=False, na=False), 'Payment Method'] = 'Bank Transfer'"
   ]
  },
  {
   "cell_type": "markdown",
   "metadata": {},
   "source": [
    "Clean Shipping Method"
   ]
  },
  {
   "cell_type": "code",
   "execution_count": null,
   "metadata": {},
   "outputs": [],
   "source": [
    "# Merge the 2 Shipping Method Title columns\n",
    "df['Shipping Method'] = df['Shipping Method 1'].fillna(df['Shipping Method 2'])\n",
    "# Drop the Shipping Method Title.1 column\n",
    "df = df.drop(['Shipping Method 1', 'Shipping Method 2'], axis=1)\n",
    "# Where value_counts for Shipping Method is less than 5%, replace with 'Other'\n",
    "df.loc[df['Shipping Method'].isin(df['Shipping Method'].value_counts()[df['Shipping Method'].value_counts(normalize=True) < 0.02].index), 'Shipping Method'] = 'Other'"
   ]
  },
  {
   "cell_type": "code",
   "execution_count": null,
   "metadata": {},
   "outputs": [],
   "source": [
    "# Merge 'First Name' and 'Last Name' columns into 'Full Name' column\n",
    "df['Billing Full Name'] = df['Billing First Name'] + ' ' + df['Billing Last Name']"
   ]
  },
  {
   "cell_type": "code",
   "execution_count": null,
   "metadata": {},
   "outputs": [],
   "source": [
    "# Drop 'First Name' and 'Last Name' columns\n",
    "df = df.drop(['Billing First Name', 'Billing Last Name'], axis=1)"
   ]
  },
  {
   "cell_type": "code",
   "execution_count": null,
   "metadata": {},
   "outputs": [],
   "source": [
    "# Make pie chart of shipping methods\n",
    "df['Shipping Method'].value_counts().plot(kind='pie', figsize=(10, 10), autopct='%1.1f%%', startangle=90, title='Shipping Methods')\n"
   ]
  },
  {
   "cell_type": "code",
   "execution_count": null,
   "metadata": {},
   "outputs": [],
   "source": [
    "# Make pie chart of payment methods\n",
    "df['Payment Method'].value_counts().plot(kind='pie', figsize=(10, 10), autopct='%1.1f%%', startangle=90, title='Payment Methods')"
   ]
  },
  {
   "cell_type": "code",
   "execution_count": null,
   "metadata": {},
   "outputs": [],
   "source": [
    "# Reorder columns\n",
    "df = df[['Transaction',\n",
    "         'Date',  \n",
    "         'Line Items',\n",
    "         'Status', \n",
    "         'Billing Full Name',\n",
    "         'Billing Country Code', \n",
    "         'Shipping City', \n",
    "         'Shipping Country Code', \n",
    "         'Shipping Method', \n",
    "         'Payment Method', \n",
    "         'Stripe Fee',\n",
    "         'Order Shipping', \n",
    "         'Subtotal (EUR)', \n",
    "         'Total (EUR)']]"
   ]
  },
  {
   "cell_type": "code",
   "execution_count": null,
   "metadata": {},
   "outputs": [],
   "source": [
    "df.head()"
   ]
  },
  {
   "cell_type": "markdown",
   "metadata": {},
   "source": [
    "Save rows with Status \"wc-completed\""
   ]
  },
  {
   "cell_type": "code",
   "execution_count": null,
   "metadata": {},
   "outputs": [],
   "source": [
    "# Filter only \"wc-completed\" orders into new dataframe\n",
    "completed_orders = df[df['Status'] == \"wc-completed\"]\n",
    "\n",
    "# Save the dataframe to a csv file. \n",
    "if isOriginalDataUsed:\n",
    "    completed_orders.to_csv('../data/original/completed_orders.csv', index=False)\n",
    "else:\n",
    "    completed_orders.to_csv('../data/anonymous/completed_orders.csv', index=False)"
   ]
  },
  {
   "cell_type": "code",
   "execution_count": null,
   "metadata": {},
   "outputs": [],
   "source": [
    "completed_orders[(completed_orders['Shipping Country Code'] == \"HR\") & pd.notna(completed_orders['Payment Method'])].tail(20)"
   ]
  },
  {
   "cell_type": "code",
   "execution_count": null,
   "metadata": {},
   "outputs": [],
   "source": [
    "df_free_shipping = df\n",
    "# Check if the following is true in a newly created column: above 52 EUR Cro free shipping & above 290 EUR outside Cro free shipping\n",
    "df_free_shipping['Shipping Should Be Free'] = (df['Total (EUR)'] >= 52) & (df['Billing Country Code'] == \"HR\") | (df['Total (EUR)'] >= 290) & (df['Billing Country Code'] != \"HR\")\n",
    "# Make a new dataframe of all rows where Free shipping should have been applied but wasn't\n",
    "df_free_shipping = df_free_shipping.loc[(df['Shipping Should Be Free'] == True) & (df['Order Shipping'] > 0)]\n",
    "# Save this dataframe to a csv file based on the original data used\n",
    "if isOriginalDataUsed:\n",
    "    df_free_shipping.to_csv('../data/original/free_shipping_not_applied_properly.csv', index=False)\n",
    "else:\n",
    "    df_free_shipping.to_csv('../data/anonymous/free_shipping_not_applied_properly.csv', index=False)\n"
   ]
  },
  {
   "cell_type": "code",
   "execution_count": null,
   "metadata": {},
   "outputs": [],
   "source": [
    "completed_orders['Line Items'].head(20)"
   ]
  },
  {
   "cell_type": "code",
   "execution_count": null,
   "metadata": {},
   "outputs": [],
   "source": [
    "# Compare the rest of the statuses with the \"wc-completed\" orders\n"
   ]
  }
 ],
 "metadata": {
  "kernelspec": {
   "display_name": "venv",
   "language": "python",
   "name": "python3"
  },
  "language_info": {
   "codemirror_mode": {
    "name": "ipython",
    "version": 3
   },
   "file_extension": ".py",
   "mimetype": "text/x-python",
   "name": "python",
   "nbconvert_exporter": "python",
   "pygments_lexer": "ipython3",
   "version": "3.10.12"
  }
 },
 "nbformat": 4,
 "nbformat_minor": 2
}
