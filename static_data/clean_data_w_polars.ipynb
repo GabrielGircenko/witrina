{
 "cells": [
  {
   "cell_type": "code",
   "execution_count": null,
   "metadata": {},
   "outputs": [],
   "source": [
    "%pip install polars"
   ]
  },
  {
   "cell_type": "code",
   "execution_count": null,
   "metadata": {},
   "outputs": [],
   "source": [
    "import polars as pl\n"
   ]
  },
  {
   "cell_type": "code",
   "execution_count": null,
   "metadata": {},
   "outputs": [],
   "source": [
    "df = pl.read_csv('all_orders_original.csv')"
   ]
  },
  {
   "cell_type": "code",
   "execution_count": null,
   "metadata": {},
   "outputs": [],
   "source": [
    "df.head()"
   ]
  },
  {
   "cell_type": "code",
   "execution_count": null,
   "metadata": {},
   "outputs": [],
   "source": [
    "# Drop unnecessary columns: password, Billing Address 2, order notes\n",
    "df = df.drop(['Password', 'Billing Address 2', 'Order note'], axis=1)"
   ]
  },
  {
   "cell_type": "code",
   "execution_count": null,
   "metadata": {},
   "outputs": [],
   "source": [
    "# Check last rows of the data where Billing Country is Croatia\n",
    "df[df['Billing Country'] == \"HR\"].tail(40)"
   ]
  },
  {
   "cell_type": "code",
   "execution_count": null,
   "metadata": {},
   "outputs": [],
   "source": [
    "# Define a conditional expression for HRK\n",
    "condition = (df['Billing Country'] == \"HR\") & (df['Date'] <= \"2022-08-12\")\n",
    "exchange_rate = 7.5345"
   ]
  },
  {
   "cell_type": "code",
   "execution_count": null,
   "metadata": {},
   "outputs": [],
   "source": [
    "# Convert HRK to EUR for orders from Croatia that happened before 2022-08-12 (inclusive) in a new column called Total (EUR)\n",
    "# df['Total (EUR)'] = (df['Total'] / exchange_rate).when(df['Billing Country'] == \"HR\" & df['Date'] <= \"2022-08-12\")\n",
    "df.loc[(df['Billing Country'] == \"HR\") & (df['Date'] <= \"2022-08-12\"), 'Total (EUR)'] = df['Total'] / exchange_rate"
   ]
  },
  {
   "cell_type": "code",
   "execution_count": null,
   "metadata": {},
   "outputs": [],
   "source": [
    "df[df['Billing Country'] == 'HR'].tail(40)"
   ]
  },
  {
   "cell_type": "code",
   "execution_count": null,
   "metadata": {},
   "outputs": [],
   "source": [
    "# Drop Total column\n",
    "df = df.drop('Total', axis=1)"
   ]
  },
  {
   "cell_type": "code",
   "execution_count": null,
   "metadata": {},
   "outputs": [],
   "source": [
    "# Maybe Convert HRK to EUR for other columns as well?"
   ]
  },
  {
   "cell_type": "code",
   "execution_count": null,
   "metadata": {},
   "outputs": [],
   "source": [
    "# Fill NaN values with 0: Order Shipping\n",
    "df['Order Shipping'] = df['Order Shipping'].fillna(0)"
   ]
  },
  {
   "cell_type": "code",
   "execution_count": null,
   "metadata": {},
   "outputs": [],
   "source": [
    "# Check if the following is true in a newly created column: above 52 EUR Cro free shipping & above 290 EUR outside Cro free shipping\n",
    "df['Free Shipping'] = (df['Total (EUR)'] >= 52) & (df['Billing Country'] == \"HR\") | (df['Total (EUR)'] >= 290) & (df['Billing Country'] != \"HR\")\n",
    "# Compare the two columns: Free Shipping & Order Shipping\n",
    "df['Free Shipping'] == df['Order Shipping']"
   ]
  },
  {
   "cell_type": "code",
   "execution_count": null,
   "metadata": {},
   "outputs": [],
   "source": [
    "# Clean the payment method column\n",
    "df['Payment Method'] = df['Payment Method'].replace(['Direct bank transfer', 'Direct Bank Transfer'], 'Bank Transfer')\n",
    "df['Payment Method'] = df['Payment Method'].replace(['Credit card', 'Credit Card'], 'Card')\n",
    "df['Payment Method'] = df['Payment Method'].replace(['PayPal', 'Paypal'], 'PayPal')"
   ]
  },
  {
   "cell_type": "code",
   "execution_count": null,
   "metadata": {},
   "outputs": [],
   "source": [
    "# Clean the Stripe Charge Captured column with 0 and 1 values\n",
    "df['Stripe Charge Captured'] = df['Stripe Charge Captured'].replace(['Yes', 'No'], [1, 0])\n",
    "# # make that column a number\n",
    "# df['Stripe Charge Captured'] = df['Stripe Charge Captured'].cast(pl.Int32)\n",
    "df.head()\n"
   ]
  },
  {
   "cell_type": "code",
   "execution_count": null,
   "metadata": {},
   "outputs": [],
   "source": [
    "# Merge the 2 Shipping Method Title columns\n",
    "df['Shipping Method Title'] = df['Shipping Method Title'].fillna(df['Shipping Method Title.1'])\n",
    "# Drop the Shipping Method Title.1 column\n",
    "df = df.drop(['Shipping Method Title.1'], axis=1)\n"
   ]
  },
  {
   "cell_type": "code",
   "execution_count": null,
   "metadata": {},
   "outputs": [],
   "source": [
    "# Make pie chart of shipping methods\n",
    "shipping_methods = df.groupby('Shipping Method Title').select('Shipping Method Title', 'Total').sum()\n",
    "shipping_methods = shipping_methods.sort('Total', reverse=True)\n",
    "shipping_methods = shipping_methods.to_pandas()\n",
    "shipping_methods = shipping_methods.set_index('Shipping Method Title')\n",
    "shipping_methods.plot.pie(y='Total', figsize=(10, 10))"
   ]
  },
  {
   "cell_type": "code",
   "execution_count": null,
   "metadata": {},
   "outputs": [],
   "source": [
    "# Make pie chart of payment methods\n",
    "payment_methods = df.groupby('Payment Method').select('Payment Method', 'Total').sum()\n",
    "payment_methods = payment_methods.sort('Total', reverse=True)\n",
    "payment_methods = payment_methods.to_pandas()\n",
    "payment_methods = payment_methods.set_index('Payment Method')\n",
    "payment_methods.plot.pie(y='Total', figsize=(10, 10))"
   ]
  },
  {
   "cell_type": "code",
   "execution_count": null,
   "metadata": {},
   "outputs": [],
   "source": [
    "# Filter only \"wc-completed\" orders into new dataframe\n",
    "completed_orders = df.filter(df['Status'] == \"wc-completed\")\n",
    "# Save the dataframe to a csv file\n",
    "completed_orders.to_csv('completed_orders.csv')"
   ]
  },
  {
   "cell_type": "code",
   "execution_count": null,
   "metadata": {},
   "outputs": [],
   "source": [
    "# Compare the rest of the statuses with the \"wc-completed\" orders\n"
   ]
  }
 ],
 "metadata": {
  "kernelspec": {
   "display_name": "venv",
   "language": "python",
   "name": "python3"
  },
  "language_info": {
   "codemirror_mode": {
    "name": "ipython",
    "version": 3
   },
   "file_extension": ".py",
   "mimetype": "text/x-python",
   "name": "python",
   "nbconvert_exporter": "python",
   "pygments_lexer": "ipython3",
   "version": "3.10.12"
  }
 },
 "nbformat": 4,
 "nbformat_minor": 2
}
